{
 "cells": [
  {
   "cell_type": "markdown",
   "metadata": {},
   "source": [
    "# Taking Observations"
   ]
  },
  {
   "cell_type": "markdown",
   "metadata": {},
   "source": [
    "### Wave propagation "
   ]
  },
  {
   "cell_type": "code",
   "execution_count": null,
   "metadata": {},
   "outputs": [],
   "source": [
    "import os\n",
    "import numpy as np"
   ]
  },
  {
   "cell_type": "code",
   "execution_count": 2,
   "metadata": {},
   "outputs": [],
   "source": [
    "from medis.medis_main import RunMedis  # this is the top level function\n",
    "from medis.plot_tools import quick2D, grid  # plotting single images or a grid of images\n",
    "from medis.params import ap,tp,atmp,iop,sp,mp  # this is where all the default parameters are stored\n",
    "from medis.utils import dprint  # this is just a useful function"
   ]
  },
  {
   "cell_type": "markdown",
   "metadata": {},
   "source": [
    "Overwrite the parameters we care about"
   ]
  },
  {
   "cell_type": "code",
   "execution_count": 3,
   "metadata": {},
   "outputs": [],
   "source": [
    "sp.save_to_disk = False  # having this off is useful initially until we start running full sims\n",
    "sp.verbose = True\n",
    "sp.debug = False  # this will show the results at every optic for the star at the shortest wavelength\n",
    "sp.numframes = 1  # total number of time frames\n",
    "sp.sample_time = 0.5e-3  # time between time frames\n",
    "sp.beam_ratio = 0.1  # low value supresses the reflections in the focal plane\n",
    "sp.save_list = np.array(['atmosphere','detector'])\n",
    "\n",
    "ap.companion_xy = [[0.5,0]]  # this is 50 mas separation\n",
    "ap.contrast = [1e-3]  # this is 50 mas separation\n",
    "ap.companion = True\n",
    "ap.n_wvl_init = 1  # single band\n",
    "tp.cg_type = 'Solid'  # occulter type\n",
    "tp.ao_act = 50  # number of actuators along an axis\n",
    "tp.satelite_speck['apply'] = False  # object to close to care about these\n",
    "tp.prescription = 'general_telescope' # 'Subaru_SCExAO'  # lets use general for now\n",
    "tp.obscure = False  # spiders and M2 obscurations off for now\n",
    "tp.use_ao = True\n",
    "tp.use_aber = True\n",
    "\n",
    "TESTDIR = 'demo'"
   ]
  },
  {
   "cell_type": "markdown",
   "metadata": {},
   "source": [
    "First lets just intialise a simulation that generates ideal electric fields (no photon noise or dead pixels etc) for this system. This will create the top \"test\" directory if it does not already exist. If it does exist the params file will be checked against the requested parameters to see if they match (has not been fully verified yet)"
   ]
  },
  {
   "cell_type": "code",
   "execution_count": 4,
   "metadata": {},
   "outputs": [
    {
     "name": "stdout",
     "output_type": "stream",
     "text": [
      "\n",
      "\t Astro_params\n",
      "{'C_spec': 1.5,\n",
      " 'companion': True,\n",
      " 'companion_xy': [[0.5, 0]],\n",
      " 'contrast': [0.001],\n",
      " 'interp_wvl': True,\n",
      " 'n_wvl_final': None,\n",
      " 'n_wvl_init': 1,\n",
      " 'spectra': [None, None],\n",
      " 'star_flux': 100000,\n",
      " 'wvl_range': array([8.0e-07, 1.5e-06])}\n",
      "\n",
      "\t Telescope_params\n",
      "{'abertime': 0.5,\n",
      " 'ao_act': 50,\n",
      " 'cg_size': 3,\n",
      " 'cg_size_units': 'l/D',\n",
      " 'cg_type': 'Solid',\n",
      " 'entrance_d': 5,\n",
      " 'fit_dm': True,\n",
      " 'fl_cg_lens': 1000,\n",
      " 'flen_primary': 25,\n",
      " 'fnum_primary': 12,\n",
      " 'legs_frac': 0.03,\n",
      " 'lens_params': None,\n",
      " 'lyot_size': 0.75,\n",
      " 'obscure': False,\n",
      " 'piston_error': False,\n",
      " 'pix_shift': [0, 0],\n",
      " 'prescription': 'general_telescope',\n",
      " 'satelite_speck': {'amp': 1.2e-08,\n",
      "                    'apply': False,\n",
      "                    'phase': 0.6283185307179586,\n",
      "                    'xloc': 12,\n",
      "                    'yloc': 12},\n",
      " 'servo_error': [0, 1],\n",
      " 'use_aber': True,\n",
      " 'use_ao': True,\n",
      " 'use_atmos': True,\n",
      " 'zernike_orders': [2, 3, 4],\n",
      " 'zernike_vals': array([ 1.75e-07, -1.50e-07,  2.00e-07])}\n",
      "\n",
      "\t Atmos_params\n",
      "{'L0': 10,\n",
      " 'cn_sq': 2.2e-13,\n",
      " 'correlated_sampling': False,\n",
      " 'fried': 0.2,\n",
      " 'h': 100,\n",
      " 'model': 'single',\n",
      " 'std': 2,\n",
      " 'tau': 0.01,\n",
      " 'vel': 5}\n",
      "\n",
      "\t CDI_params\n",
      "{'null_time': 0,\n",
      " 'probe_integration_time': 0.01,\n",
      " 'phs_intervals': 1.5707963267948966,\n",
      " 'probe_amp': 2e-06,\n",
      " 'probe_h': 30,\n",
      " 'probe_shift': (15, 15),\n",
      " 'probe_spacing': 10,\n",
      " 'probe_w': 10,\n",
      " 'show_probe': False,\n",
      " 'use_cdi': False,\n",
      " 'which_DM': ''}\n",
      "\n",
      "\t IO_params\n",
      "{'aberdir': '/Users/dodkins/MKIDSim/demo/justfields2/aberrations/gridsz{}_bmratio{}_tsteps{}',\n",
      " 'aberroot': 'aberrations',\n",
      " 'atmosdir': '/Users/dodkins/MKIDSim/demo/justfields2/atmos/gridsz{}_bmratio{}_tsteps{}',\n",
      " 'atmosroot': 'atmos',\n",
      " 'camera': '/Users/dodkins/MKIDSim/demo/justfields2/camera.pkl',\n",
      " 'datadir': '/Users/dodkins/MKIDSim/',\n",
      " 'device': '/Users/dodkins/MKIDSim/demo/justfields2/device.pkl',\n",
      " 'fields': '/Users/dodkins/MKIDSim/demo/justfields2/fields.h5',\n",
      " 'params_logs': '/Users/dodkins/MKIDSim/demo/justfields2/params.pkl',\n",
      " 'photonlist': '/Users/dodkins/MKIDSim/demo/justfields2/photonlist.h5',\n",
      " 'prescopydir': '/Users/dodkins/MKIDSim/demo/justfields2/prescription/{}',\n",
      " 'prescopyroot': 'prescription',\n",
      " 'prescriptions_root': '/Users/dodkins/PythonProjects/MEDIS++/simulations',\n",
      " 'telescope': '/Users/dodkins/MKIDSim/demo/justfields2/telescope.pkl',\n",
      " 'testdir': '/Users/dodkins/MKIDSim/demo/justfields2',\n",
      " 'testname': 'demo/justfields2'}\n",
      "\n",
      "\t Simulation_params\n",
      "{'ao_delay': 0,\n",
      " 'auto_load': False,\n",
      " 'beam_ratio': 0.1,\n",
      " 'checkpointing': 500,\n",
      " 'chunking': False,\n",
      " 'closed_loop': False,\n",
      " 'debug': False,\n",
      " 'degrade_photons': True,\n",
      " 'focused_sys': False,\n",
      " 'grid_size': 512,\n",
      " 'maskd_size': 256,\n",
      " 'memory_limit': 10,\n",
      " 'num_processes': 1,\n",
      " 'numframes': 1,\n",
      " 'quick_companions': False,\n",
      " 'quick_detect': False,\n",
      " 'sample_time': 0.0005,\n",
      " 'save_list': array(['atmosphere', 'detector'], dtype='<U10'),\n",
      " 'save_to_disk': False,\n",
      " 'show_spectra': False,\n",
      " 'show_tseries': False,\n",
      " 'show_wframe': True,\n",
      " 'skip_functions': [],\n",
      " 'spectra_cols': 2,\n",
      " 'startframe': 0,\n",
      " 'timing': True,\n",
      " 'tseries_cols': 2,\n",
      " 'verbose': True}\n",
      "\n",
      "\t MKID_params\n",
      "{'QE_map': None,\n",
      " 'QE_var': False,\n",
      " 'R_mean': 50,\n",
      " 'R_sig': 2,\n",
      " 'R_spec': -0.1,\n",
      " 'array_size': array([129, 129]),\n",
      " 'bad_pix': False,\n",
      " 'bg_mean': 0,\n",
      " 'bg_sig': 30,\n",
      " 'bin_time': 0.002,\n",
      " 'dark_bright': 10,\n",
      " 'dark_counts': False,\n",
      " 'dark_pix_frac': 0.1,\n",
      " 'dead_time': 0.02,\n",
      " 'frame_int': 0.05,\n",
      " 'g_mean': 0.95,\n",
      " 'g_sig': 0.025,\n",
      " 'g_spec': -0.1,\n",
      " 'hot_bright': 1000.0,\n",
      " 'hot_pix': 0,\n",
      " 'lod': 8,\n",
      " 'max_count': 2500.0,\n",
      " 'nlod': 10,\n",
      " 'phase_background': False,\n",
      " 'phase_uncertainty': False,\n",
      " 'pix_yield': 0.9,\n",
      " 'platescale': 0.01,\n",
      " 'quantize_FCs': False,\n",
      " 'r_mean': 1,\n",
      " 'r_sig': 0.05,\n",
      " 'remove_close': False,\n",
      " 'res_elements': 129,\n",
      " 'resamp': True,\n",
      " 't_frames': 20,\n",
      " 'threshold_phase': 0,\n",
      " 'total_int': 1,\n",
      " 'wavecal_coeffs': [83333333.33333333, -157]}\n",
      "No simulation data found at... \n",
      "\n",
      "\t/Users/dodkins/MKIDSim/demo/justfields2 \n",
      "\n",
      " A new test simulation will be started\n"
     ]
    }
   ],
   "source": [
    "sim = RunMedis(name=f'{TESTDIR}/justfields', product='fields')"
   ]
  },
  {
   "cell_type": "markdown",
   "metadata": {},
   "source": [
    "Calling sim will begin the observation that generates the fields ndarray. It will create all the directories, atmosphere maps, aberration maps, coronagraph maps and check if the simulation needs to be chunked to fit into the dynamic memory or not"
   ]
  },
  {
   "cell_type": "markdown",
   "metadata": {},
   "source": [
    "since params['sp'].debug is True it will produce lots of plots"
   ]
  },
  {
   "cell_type": "code",
   "execution_count": 5,
   "metadata": {
    "scrolled": false
   },
   "outputs": [
    {
     "name": "stdout",
     "output_type": "stream",
     "text": [
      "Copying over prescription /Users/dodkins/PythonProjects/MEDIS++/simulations/general_telescope/general_telescope.py\n",
      "\n",
      "MEDIS++/medis/atmosphere.py:71 - Making New Atmosphere Model\n"
     ]
    },
    {
     "name": "stderr",
     "output_type": "stream",
     "text": [
      "/Users/dodkins/.conda/envs/pipeline-new/lib/python3.7/site-packages/hcipy/atmosphere/atmospheric_model.py:181: UserWarning: Please use the correct spelling for scintillation.\n",
      "  warnings.warn('Please use the correct spelling for scintillation.')\n"
     ]
    },
    {
     "name": "stdout",
     "output_type": "stream",
     "text": [
      "MEDIS++/medis/atmosphere.py:137 - atmos file = /Users/dodkins/MKIDSim/demo/justfields2/atmos/gridsz512_bmratio0.1_tsteps1/atmos_t0.000000_single_wvl8.000e-07.fits\n",
      "MEDIS++/medis/aberrations.py:50 - Generating optic aberration maps using Proper at directory /Users/dodkins/MKIDSim/demo/justfields2/aberrations/gridsz512_bmratio0.1_tsteps1\n",
      "pyFFTW not found, using Numpy FT.\n",
      "MEDIS++/medis/aberrations.py:50 - Generating optic aberration maps using Proper at directory /Users/dodkins/MKIDSim/demo/justfields2/aberrations/gridsz512_bmratio0.1_tsteps1\n",
      "pyFFTW not found, using Numpy FT.\n",
      "Each timestep is predicted to be 4.194304 MB, meaning no more than 2384.0 time steps can fit in the memory at one time\n",
      "File total size should be 4.194304 MB\n",
      "Using time chunks of size 1\n",
      "No mode specfified defaulting to markov (time independent)\n",
      "\n",
      "\n",
      "\tBeginning Telescope Simulation with MEDIS\n",
      "\n",
      "\n",
      "MEDIS++/medis/optics.py:211 - saving plane at atmosphere\n",
      "MEDIS++/medis/optics.py:189 - Rupert--debug this for gen_telescope. You shouldnt need this after correct masking of WFS map\n",
      "Zeroing outside the beam after deformable mirror\n",
      "MEDIS++/medis/optics.py:211 - saving plane at detector\n",
      "Finished datacube at timestep = 0\n",
      "\n",
      "\n",
      "\tMEDIS Telescope Run Completed\n",
      "\n",
      "Time elapsed: 0.02 minutes\n",
      "Shape of cpx_sequence = timesteps:1, save planes:2, wavelengths:1, astronomical bodies:2, x:512, y:512\n"
     ]
    }
   ],
   "source": [
    "observation = sim()"
   ]
  },
  {
   "cell_type": "markdown",
   "metadata": {},
   "source": [
    "This demonstration shows reflections in the focal plane at wide separation which woould be reduced with an increase in grid_size and decrease in beam_ratio if neccessary."
   ]
  },
  {
   "cell_type": "markdown",
   "metadata": {},
   "source": [
    "From this dictionary we can look at the fields ndarray"
   ]
  },
  {
   "cell_type": "code",
   "execution_count": 6,
   "metadata": {},
   "outputs": [
    {
     "name": "stdout",
     "output_type": "stream",
     "text": [
      "dict_keys(['fields', 'sampling'])\n",
      "fields being sliced by [1 1] making new fields size (1, 2, 512, 512)\n",
      "fields being sliced by [1 1] making new fields size (1, 2, 512, 512)\n"
     ]
    },
    {
     "name": "stderr",
     "output_type": "stream",
     "text": [
      "/Users/dodkins/.conda/envs/pipeline-new/lib/python3.7/site-packages/matplotlib/figure.py:2299: UserWarning: This figure includes Axes that are not compatible with tight_layout, so results might be incorrect.\n",
      "  warnings.warn(\"This figure includes Axes that are not compatible \"\n"
     ]
    },
    {
     "data": {
      "image/png": "[encoded data removed]",
      "text/plain": [
       "<Figure size 1152x648 with 4 Axes>"
      ]
     },
     "metadata": {
      "needs_background": "light"
     },
     "output_type": "display_data"
    },
    {
     "data": {
      "image/png": "[encoded data removed]",
      "text/plain": [
       "<Figure size 1152x648 with 4 Axes>"
      ]
     },
     "metadata": {
      "needs_background": "light"
     },
     "output_type": "display_data"
    }
   ],
   "source": [
    "print(observation.keys())\n",
    "fields = observation['fields']\n",
    "grid(np.angle(fields[0,0]), vlim=(-np.pi, np.pi), show=False, cmap='sunlight')\n",
    "grid(fields[0,0], logZ=True, nstd=2, show=True)"
   ]
  },
  {
   "cell_type": "markdown",
   "metadata": {},
   "source": [
    "### Quantization"
   ]
  },
  {
   "cell_type": "markdown",
   "metadata": {},
   "source": [
    "Now lets repeat the process but use the product == 'photons' option for RunMedis "
   ]
  },
  {
   "cell_type": "code",
   "execution_count": 10,
   "metadata": {},
   "outputs": [
    {
     "name": "stdout",
     "output_type": "stream",
     "text": [
      "\n",
      "\t Astro_params\n",
      "{'C_spec': 1.5,\n",
      " 'companion': True,\n",
      " 'companion_xy': [[0.5, 0]],\n",
      " 'contrast': [0.001],\n",
      " 'interp_wvl': True,\n",
      " 'n_wvl_final': 1,\n",
      " 'n_wvl_init': 1,\n",
      " 'spectra': [None, None],\n",
      " 'star_flux': 1000000000.0,\n",
      " 'wvl_range': array([8.0e-07, 1.5e-06])}\n",
      "\n",
      "\t Telescope_params\n",
      "{'abertime': 0.5,\n",
      " 'ao_act': 50,\n",
      " 'cg_size': 3,\n",
      " 'cg_size_units': 'l/D',\n",
      " 'cg_type': 'Solid',\n",
      " 'entrance_d': 5,\n",
      " 'fit_dm': True,\n",
      " 'fl_cg_lens': 1000,\n",
      " 'flen_primary': 25,\n",
      " 'fnum_primary': 12,\n",
      " 'legs_frac': 0.03,\n",
      " 'lens_params': [{'aber_vals': [5e-18, 2.0, 3.1],\n",
      "                  'diam': 0.2,\n",
      "                  'dist': 1.345,\n",
      "                  'focal_length': 1.2,\n",
      "                  'name': 'CPA'},\n",
      "                 {'aber_vals': [5e-18, 2.0, 3.1],\n",
      "                  'diam': 0.2,\n",
      "                  'dist': 1.345,\n",
      "                  'focal_length': 1.2,\n",
      "                  'name': 'NCPA'}],\n",
      " 'lyot_size': 0.75,\n",
      " 'obscure': False,\n",
      " 'piston_error': False,\n",
      " 'pix_shift': [0, 0],\n",
      " 'prescription': 'general_telescope',\n",
      " 'satelite_speck': {'amp': 1.2e-08,\n",
      "                    'apply': False,\n",
      "                    'phase': 0.6283185307179586,\n",
      "                    'xloc': 12,\n",
      "                    'yloc': 12},\n",
      " 'servo_error': [0, 1],\n",
      " 'use_aber': True,\n",
      " 'use_ao': True,\n",
      " 'use_atmos': True,\n",
      " 'zernike_orders': [2, 3, 4],\n",
      " 'zernike_vals': array([ 1.75e-07, -1.50e-07,  2.00e-07])}\n",
      "\n",
      "\t Atmos_params\n",
      "{'L0': 10,\n",
      " 'cn_sq': 2.2e-13,\n",
      " 'correlated_sampling': False,\n",
      " 'fried': 0.2,\n",
      " 'h': 100,\n",
      " 'model': 'single',\n",
      " 'std': 2,\n",
      " 'tau': 0.01,\n",
      " 'vel': 5}\n",
      "\n",
      "\t CDI_params\n",
      "{'null_time': 0,\n",
      " 'probe_integration_time': 0.01,\n",
      " 'phase_series': array([nan, nan, nan, nan, nan, nan, nan, nan, nan, nan, nan, nan, nan,\n",
      "       nan, nan, nan, nan, nan, nan, nan]),\n",
      " 'phs_intervals': 1.5707963267948966,\n",
      " 'probe_amp': 2e-06,\n",
      " 'probe_h': 30,\n",
      " 'probe_shift': (15, 15),\n",
      " 'probe_spacing': 10,\n",
      " 'probe_w': 10,\n",
      " 'show_probe': False,\n",
      " 'use_cdi': False,\n",
      " 'which_DM': ''}\n",
      "\n",
      "\t IO_params\n",
      "{'aberdir': '/Users/dodkins/MKIDSim/demo/photonlist/aberrations/gridsz{}_bmratio{}_tsteps{}',\n",
      " 'aberroot': 'aberrations',\n",
      " 'atmosdir': '/Users/dodkins/MKIDSim/demo/photonlist/atmos/gridsz{}_bmratio{}_tsteps{}',\n",
      " 'atmosroot': 'atmos',\n",
      " 'camera': '/Users/dodkins/MKIDSim/demo/photonlist/camera.pkl',\n",
      " 'datadir': '/Users/dodkins/MKIDSim/',\n",
      " 'device': '/Users/dodkins/MKIDSim/demo/photonlist/device.pkl',\n",
      " 'fields': '/Users/dodkins/MKIDSim/demo/photonlist/fields.h5',\n",
      " 'params_logs': '/Users/dodkins/MKIDSim/demo/photonlist/params.pkl',\n",
      " 'photonlist': '/Users/dodkins/MKIDSim/demo/photonlist/photonlist.h5',\n",
      " 'prescopydir': '/Users/dodkins/MKIDSim/demo/photonlist/prescription/{}',\n",
      " 'prescopyroot': 'prescription',\n",
      " 'prescriptions_root': '/Users/dodkins/PythonProjects/MEDIS++/simulations',\n",
      " 'telescope': '/Users/dodkins/MKIDSim/demo/photonlist/telescope.pkl',\n",
      " 'testdir': '/Users/dodkins/MKIDSim/demo/photonlist',\n",
      " 'testname': 'demo/photonlist'}\n",
      "\n",
      "\t Simulation_params\n",
      "{'ao_delay': 0,\n",
      " 'auto_load': False,\n",
      " 'beam_ratio': 0.1,\n",
      " 'checkpointing': 500,\n",
      " 'chunking': False,\n",
      " 'closed_loop': False,\n",
      " 'debug': False,\n",
      " 'degrade_photons': True,\n",
      " 'focused_sys': False,\n",
      " 'grid_size': 512,\n",
      " 'maskd_size': 256,\n",
      " 'memory_limit': 10,\n",
      " 'num_processes': 1,\n",
      " 'numframes': 20,\n",
      " 'quick_companions': False,\n",
      " 'quick_detect': False,\n",
      " 'sample_time': 0.0005,\n",
      " 'save_list': array(['atmosphere', 'detector'], dtype='<U10'),\n",
      " 'save_to_disk': True,\n",
      " 'show_spectra': False,\n",
      " 'show_tseries': False,\n",
      " 'show_wframe': True,\n",
      " 'skip_functions': [],\n",
      " 'spectra_cols': 2,\n",
      " 'startframe': 0,\n",
      " 'timing': True,\n",
      " 'tseries_cols': 2,\n",
      " 'verbose': True}\n",
      "\n",
      "\t MKID_params\n",
      "{'QE_map': None,\n",
      " 'QE_var': False,\n",
      " 'R_mean': 50,\n",
      " 'R_sig': 2,\n",
      " 'R_spec': -0.1,\n",
      " 'array_size': array([100, 100]),\n",
      " 'bad_pix': False,\n",
      " 'bg_mean': 0,\n",
      " 'bg_sig': 30,\n",
      " 'bin_time': 0.002,\n",
      " 'dark_bright': 10,\n",
      " 'dark_counts': False,\n",
      " 'dark_pix_frac': 0.1,\n",
      " 'dead_time': 0.02,\n",
      " 'frame_int': 0.05,\n",
      " 'g_mean': 0.95,\n",
      " 'g_sig': 0.025,\n",
      " 'g_spec': -0.1,\n",
      " 'hot_bright': 1000.0,\n",
      " 'hot_pix': 0,\n",
      " 'lod': 8,\n",
      " 'max_count': 2500.0,\n",
      " 'nlod': 10,\n",
      " 'phase_background': False,\n",
      " 'phase_uncertainty': False,\n",
      " 'pix_yield': 0.9,\n",
      " 'platescale': 0.01,\n",
      " 'quantize_FCs': False,\n",
      " 'r_mean': 1,\n",
      " 'r_sig': 0.05,\n",
      " 'remove_close': False,\n",
      " 'res_elements': 129,\n",
      " 'resamp': True,\n",
      " 't_frames': 20,\n",
      " 'threshold_phase': 0,\n",
      " 'total_int': 1,\n",
      " 'wavecal_coeffs': [83333333.33333333, -157]}\n",
      "No simulation data found at... \n",
      "\n",
      "\t/Users/dodkins/MKIDSim/demo/photonlist \n",
      "\n",
      " A new test simulation will be started\n"
     ]
    }
   ],
   "source": [
    "sp.debug = False  # we already know what the planes look like now\n",
    "sp.save_to_disk = True  # save fields and save photons so they can be loaded\n",
    "ap.star_flux = 1e9  # lets assume 1e9 photons across the array per second\n",
    "mp.platescale = 10 *1e-3 # 10mas/pix\n",
    "mp.array_size = np.array([100,100])  # this will take the center 100*10mas of the input image\n",
    "sp.numframes = 20 # 20 * 0.5 ms = 10 ms of photon data\n",
    "sim = RunMedis( name=f'{TESTDIR}/photonlist', product='rebinned_cube')"
   ]
  },
  {
   "cell_type": "markdown",
   "metadata": {},
   "source": [
    "This will create a new folder with a new fields ndarray (this time with more timesteps) and generate photons from it"
   ]
  },
  {
   "cell_type": "code",
   "execution_count": 13,
   "metadata": {
    "scrolled": true
   },
   "outputs": [
    {
     "name": "stdout",
     "output_type": "stream",
     "text": [
      "Using prescription /Users/dodkins/PythonProjects/MEDIS++/simulations/general_telescope/general_telescope.py\n",
      "\n",
      "Atmosphere maps already exist at \n",
      "\t/Users/dodkins/MKIDSim/demo/photonlist/atmos/gridsz512_bmratio0.1_tsteps20 \n",
      "... skipping generation\n",
      "\n",
      "\n",
      "Aberration maps already exist at \n",
      "\t/Users/dodkins/MKIDSim/demo/photonlist/aberrations/gridsz512_bmratio0.1_tsteps20 \n",
      "... skipping generation\n",
      "\n",
      "\n",
      "Each timestep is predicted to be 4.194304 MB, meaning no more than 2384.0 time steps can fit in the memory at one time\n",
      "File total size should be 83.88607999999999 MB\n",
      "Using time chunks of size 20\n",
      "No mode specfified defaulting to markov (time independent)\n",
      "Loading fields from /Users/dodkins/MKIDSim/demo/photonlist/fields.h5\n",
      "Shape of cpx_sequence = timesteps:20, save planes:2, wavelengths:1, astronomical bodies:2, x:512, y:512\n",
      "This observation will produce 85768 photons, which is 0.002744576 GB, meaning no more than 3643.5500419736964 of this observation can fit in the memory at one time\n",
      "Input cubes will be split up into time length 20\n",
      "MEDIS++/medis/MKIDS.py:180 - @Rup Please specify what you are trying to print here\n",
      "star flux: 1000000000.0, cube sum: 0.17153626680374143, numframes: 20,num events: 8.576800e+04\n",
      "dict_keys(['rebinned_cube']) (20, 1, 100, 100)\n"
     ]
    }
   ],
   "source": [
    "observation = sim()\n",
    "print(observation.keys(), observation['rebinned_cube'].shape)"
   ]
  },
  {
   "cell_type": "markdown",
   "metadata": {},
   "source": [
    "The simulation produced 100000 photons with 20 time samples, 1 wavelength sample on a 100 by 100 array"
   ]
  },
  {
   "cell_type": "markdown",
   "metadata": {},
   "source": [
    "observation['stackcube'] is already in nice format for viewing. Lets plot every 5th timestep"
   ]
  },
  {
   "cell_type": "code",
   "execution_count": 15,
   "metadata": {},
   "outputs": [
    {
     "name": "stdout",
     "output_type": "stream",
     "text": [
      "fields being sliced by [4 1] making new fields size (5, 1, 100, 100)\n"
     ]
    },
    {
     "data": {
      "image/png": "[encoded data removed]",
      "text/plain": [
       "<Figure size 1152x648 with 10 Axes>"
      ]
     },
     "metadata": {
      "needs_background": "light"
     },
     "output_type": "display_data"
    }
   ],
   "source": [
    "grid(observation['rebinned_cube'], show=True, title='Rebinned photon data')"
   ]
  },
  {
   "cell_type": "code",
   "execution_count": null,
   "metadata": {},
   "outputs": [],
   "source": []
  }
 ],
 "metadata": {
  "kernelspec": {
   "display_name": "Python 3",
   "language": "python",
   "name": "python3"
  },
  "language_info": {
   "codemirror_mode": {
    "name": "ipython",
    "version": 3
   },
   "file_extension": ".py",
   "mimetype": "text/x-python",
   "name": "python",
   "nbconvert_exporter": "python",
   "pygments_lexer": "ipython3",
   "version": "3.7.7"
  }
 },
 "nbformat": 4,
 "nbformat_minor": 1
}
